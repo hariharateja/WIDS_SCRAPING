{
 "cells": [
  {
   "cell_type": "code",
   "execution_count": 70,
   "metadata": {},
   "outputs": [
    {
     "name": "stdout",
     "output_type": "stream",
     "text": [
      "Time taken in non-vectorized approach: 136.50202751159668 ms\n",
      "Time taken in vectorized approach: 0.2570152282714844 ms\n",
      "True\n"
     ]
    }
   ],
   "source": [
    "import numpy as np\n",
    "import time\n",
    "\n",
    "arr_nonvectorized = np.random.rand(1000, 1000)\n",
    "arr_vectorized = np.array(arr_nonvectorized) \n",
    "\n",
    "\n",
    "start_nv = time.time()\n",
    "for i in range(1000):  \n",
    "    for j in range(1000):  \n",
    "        arr_nonvectorized[i, j] *= 3  \n",
    "\n",
    "end_nv = time.time()\n",
    "print(\"Time taken in non-vectorized approach:\", 1000*(end_nv-start_nv), \"ms\")\n",
    "\n",
    "start_v = time.time()\n",
    "arr_vectorized*=3\n",
    "end_v = time.time()\n",
    "print(\"Time taken in vectorized approach:\", 1000*(end_v-start_v), \"ms\")\n",
    "print(np.allclose(arr_nonvectorized, arr_vectorized))"
   ]
  },
  {
   "cell_type": "code",
   "execution_count": 71,
   "metadata": {},
   "outputs": [
    {
     "name": "stdout",
     "output_type": "stream",
     "text": [
      "Time taken in non-vectorized approach: 60.82797050476074 ms\n",
      "Time taken in vectorized approach: 0.8311271667480469 ms\n",
      "True\n"
     ]
    }
   ],
   "source": [
    "import numpy as np\n",
    "A = np.random.rand(500, 500)\n",
    "B = np.random.rand(500, 500)\n",
    "\n",
    "C_nonvectorized = np.zeros((500, 500))\n",
    "\n",
    "start_nv = time.time()\n",
    "for i in range(500):\n",
    "   for j in range(500):\n",
    "     C_nonvectorized[i,j]=A[i,j]*B[i,j]\n",
    "end_nv = time.time()\n",
    "print(\"Time taken in non-vectorized approach:\", 1000 * (end_nv - start_nv), \"ms\")\n",
    "\n",
    "C_vectorized = np.zeros((500,500))\n",
    "start_v = time.time()\n",
    "C_vectorized=A*B\n",
    "end_v = time.time()\n",
    "print(\"Time taken in vectorized approach:\", 1000 * (end_v - start_v), \"ms\")\n",
    "\n",
    "\n",
    "print(np.allclose(C_nonvectorized, C_vectorized))"
   ]
  },
  {
   "cell_type": "code",
   "execution_count": 87,
   "metadata": {},
   "outputs": [
    {
     "name": "stdout",
     "output_type": "stream",
     "text": [
      "2D Points:\n",
      " [[8.11252588 4.00666852]\n",
      " [8.53033904 1.42409116]\n",
      " [1.23318506 1.39721183]\n",
      " [8.3820358  2.03368969]\n",
      " [9.00238629 0.97874712]]\n",
      "[[0.         2.61615628 7.35762151 1.99130136 3.15597205]\n",
      " [2.61615628 0.         7.29720349 0.62737884 0.64896835]\n",
      " [7.35762151 7.29720349 0.         7.17712832 7.78046274]\n",
      " [1.99130136 0.62737884 7.17712832 0.         1.22382129]\n",
      " [3.15597205 0.64896835 7.78046274 1.22382129 0.        ]]\n"
     ]
    }
   ],
   "source": [
    "import numpy as np\n",
    "\n",
    "points = np.random.rand(5, 2) * 10\n",
    "print(\"2D Points:\\n\", points)\n",
    "\n",
    "points_diff=points[:,np.newaxis,]-points \n",
    "distance_matrix = np.linalg.norm(points_diff, axis=2)\n",
    "print(distance_matrix)\n"
   ]
  }
 ],
 "metadata": {
  "kernelspec": {
   "display_name": "wids_kernel",
   "language": "python",
   "name": "wids_kernel"
  },
  "language_info": {
   "codemirror_mode": {
    "name": "ipython",
    "version": 3
   },
   "file_extension": ".py",
   "mimetype": "text/x-python",
   "name": "python",
   "nbconvert_exporter": "python",
   "pygments_lexer": "ipython3",
   "version": "3.13.0"
  }
 },
 "nbformat": 4,
 "nbformat_minor": 4
}
